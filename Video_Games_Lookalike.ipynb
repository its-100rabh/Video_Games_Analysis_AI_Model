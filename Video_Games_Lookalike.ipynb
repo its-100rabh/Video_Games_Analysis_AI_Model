{
 "cells": [
  {
   "cell_type": "code",
   "execution_count": 5,
   "id": "941ca491-1da2-4d9e-a85b-72e4c5b87a1f",
   "metadata": {},
   "outputs": [],
   "source": [
    "import pandas as pd\n",
    "from sklearn.preprocessing import StandardScaler, OneHotEncoder\n",
    "from sklearn.metrics.pairwise import cosine_similarity\n",
    "from sklearn.compose import ColumnTransformer\n",
    "from sklearn.pipeline import Pipeline"
   ]
  },
  {
   "cell_type": "code",
   "execution_count": 6,
   "id": "3462f87c-0096-485b-824c-3b97ecc0ca71",
   "metadata": {},
   "outputs": [
    {
     "name": "stdout",
     "output_type": "stream",
     "text": [
      "Games Statistics:\n",
      "               Rank          Year      NA_Sales      EU_Sales      JP_Sales  \\\n",
      "count  16598.000000  16327.000000  16598.000000  16598.000000  16598.000000   \n",
      "mean    8300.605254   2006.406443      0.264667      0.146652      0.077782   \n",
      "std     4791.853933      5.828981      0.816683      0.505351      0.309291   \n",
      "min        1.000000   1980.000000      0.000000      0.000000      0.000000   \n",
      "25%     4151.250000   2003.000000      0.000000      0.000000      0.000000   \n",
      "50%     8300.500000   2007.000000      0.080000      0.020000      0.000000   \n",
      "75%    12449.750000   2010.000000      0.240000      0.110000      0.040000   \n",
      "max    16600.000000   2020.000000     41.490000     29.020000     10.220000   \n",
      "\n",
      "        Other_Sales  Global_Sales  \n",
      "count  16598.000000  16598.000000  \n",
      "mean       0.048063      0.537441  \n",
      "std        0.188588      1.555028  \n",
      "min        0.000000      0.010000  \n",
      "25%        0.000000      0.060000  \n",
      "50%        0.010000      0.170000  \n",
      "75%        0.040000      0.470000  \n",
      "max       10.570000     82.740000  \n"
     ]
    }
   ],
   "source": [
    "games_df = pd.read_csv('vgsales.csv')\n",
    "\n",
    "print(\"Games Statistics:\")\n",
    "print(games_df.describe())"
   ]
  },
  {
   "cell_type": "code",
   "execution_count": 9,
   "id": "0e2b821d-c040-46f4-b93f-3511b2742257",
   "metadata": {},
   "outputs": [],
   "source": [
    "# Fill missing values\n",
    "games_df.fillna({\n",
    "    'Year': games_df['Year'].median(),\n",
    "    'Platform': 'Unknown',\n",
    "    'Genre': 'Unknown',\n",
    "    'Publisher': 'Unknown'\n",
    "}, inplace=True)"
   ]
  },
  {
   "cell_type": "code",
   "execution_count": 10,
   "id": "c9093b31-6bba-48e7-8af6-d8c00a7d340d",
   "metadata": {},
   "outputs": [],
   "source": [
    "# Define numeric and categorical features\n",
    "numeric_features = ['Year', 'NA_Sales', 'EU_Sales', 'JP_Sales', 'Other_Sales', 'Global_Sales']\n",
    "categorical_features = ['Platform', 'Genre', 'Publisher']\n",
    "\n",
    "# Create a column transformer\n",
    "preprocessor = ColumnTransformer(\n",
    "    transformers=[\n",
    "        ('num', StandardScaler(), numeric_features),\n",
    "        ('cat', OneHotEncoder(), categorical_features)\n",
    "    ])\n",
    "\n",
    "# Apply transformations\n",
    "transformed_features = preprocessor.fit_transform(games_df)"
   ]
  },
  {
   "cell_type": "code",
   "execution_count": 11,
   "id": "209ac5fb-51ae-4c84-939d-7d05ada2a689",
   "metadata": {},
   "outputs": [],
   "source": [
    "similarity_matrix = cosine_similarity(transformed_features)"
   ]
  },
  {
   "cell_type": "code",
   "execution_count": 12,
   "id": "08c9fcb5-8b67-47d2-a7ab-354924127fd5",
   "metadata": {},
   "outputs": [],
   "source": [
    "def get_top_3_similar_games(similarity_matrix, games_df):\n",
    "    similar_games = []\n",
    "    for idx, game in games_df.iterrows():\n",
    "        similar_indices = similarity_matrix[idx].argsort()[-4:-1][::-1]\n",
    "        similar_games.append({\n",
    "            'Game': game['Name'],\n",
    "            'Similar1': games_df.iloc[similar_indices[0]]['Name'],\n",
    "            'Score1': similarity_matrix[idx][similar_indices[0]],\n",
    "            'Similar2': games_df.iloc[similar_indices[1]]['Name'],\n",
    "            'Score2': similarity_matrix[idx][similar_indices[1]],\n",
    "            'Similar3': games_df.iloc[similar_indices[2]]['Name'],\n",
    "            'Score3': similarity_matrix[idx][similar_indices[2]],\n",
    "        })\n",
    "    return similar_games"
   ]
  },
  {
   "cell_type": "code",
   "execution_count": 13,
   "id": "baf452f9-950d-4f1a-92a4-71a6b039fc28",
   "metadata": {},
   "outputs": [],
   "source": [
    "similar_games = get_top_3_similar_games(similarity_matrix, games_df)"
   ]
  },
  {
   "cell_type": "code",
   "execution_count": 14,
   "id": "44a698c4-562a-456e-a331-62232bd349c7",
   "metadata": {},
   "outputs": [],
   "source": [
    "similar_games_df = pd.DataFrame(similar_games)\n",
    "similar_games_df.to_csv('similar_games.csv', index=False)"
   ]
  },
  {
   "cell_type": "code",
   "execution_count": null,
   "id": "a38a66f4-9952-4a6f-9c43-93b1e3a975f2",
   "metadata": {},
   "outputs": [],
   "source": []
  }
 ],
 "metadata": {
  "kernelspec": {
   "display_name": "Python 3 (ipykernel)",
   "language": "python",
   "name": "python3"
  },
  "language_info": {
   "codemirror_mode": {
    "name": "ipython",
    "version": 3
   },
   "file_extension": ".py",
   "mimetype": "text/x-python",
   "name": "python",
   "nbconvert_exporter": "python",
   "pygments_lexer": "ipython3",
   "version": "3.11.0"
  }
 },
 "nbformat": 4,
 "nbformat_minor": 5
}
